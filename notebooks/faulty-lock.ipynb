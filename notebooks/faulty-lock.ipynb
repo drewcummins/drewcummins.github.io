{
 "cells": [
  {
   "cell_type": "code",
   "execution_count": 207,
   "metadata": {
    "scrolled": true
   },
   "outputs": [
    {
     "data": {
      "image/png": "[encoded data removed]",
      "text/plain": [
       "<matplotlib.figure.Figure at 0x10cfda908>"
      ]
     },
     "metadata": {},
     "output_type": "display_data"
    }
   ],
   "source": [
    "from mpl_toolkits.mplot3d import Axes3D\n",
    "import matplotlib.pyplot as plt\n",
    "import numpy as np\n",
    "from itertools import product, combinations\n",
    "from matplotlib.ticker import MaxNLocator\n",
    "\n",
    "ss = 7\n",
    "\n",
    "fig = plt.figure(figsize=(ss,ss))\n",
    "ax = fig.gca(projection='3d')\n",
    "ax.xaxis.set_major_locator(MaxNLocator(integer=True))\n",
    "ax.yaxis.set_major_locator(MaxNLocator(integer=True))\n",
    "ax.zaxis.set_major_locator(MaxNLocator(integer=True))\n",
    "ax.set_aspect(\"equal\")\n",
    "ax.set_axis_off()\n",
    "\n",
    "points = []\n",
    "grid = []\n",
    "colors = []\n",
    "N = 4\n",
    "for i in range(1,N+1):\n",
    "    grid.append([])\n",
    "    colors.append([])\n",
    "    for j in range(1,N+1):\n",
    "        grid[i-1].append([])\n",
    "        colors[i-1].append([])\n",
    "        for k in range(1,N+1):\n",
    "            point = np.array([i,j,k])\n",
    "            points.append(point)\n",
    "            grid[i-1][j-1].append(point)\n",
    "            colors[i-1][j-1].append(\"lightgrey\")\n",
    "\n",
    "# p = len(points)\n",
    "# for i in range(0,p-1):\n",
    "#     pi = points[i]\n",
    "#     for j in range(i+1,p):\n",
    "#         pj = points[j]\n",
    "#         dist = np.linalg.norm(pj-pi)\n",
    "#         if np.isclose(dist, 1):\n",
    "#             ax.plot3D((pi[0], pj[0]), (pi[1], pj[1]), (pi[2], pj[2]), color=\"lightgrey\", linestyle=\":\")\n",
    "\n",
    "def connect(points, color=\"lightgrey\", linestyle=\":\", render_all=True):\n",
    "    p = len(points)\n",
    "    for i in range(0,p-1):\n",
    "        pi = points[i]\n",
    "        for j in range(i+1,p):\n",
    "            pj = points[j]\n",
    "            dist = np.linalg.norm(pj-pi)\n",
    "            if np.isclose(dist, 1):\n",
    "                if render_all or (pi[1] == 1 and pj[1] == 1):\n",
    "                    ax.plot3D((pi[0], pj[0]), (pi[1], pj[1]), (pi[2], pj[2]), color=color, linestyle=linestyle)\n",
    "\n",
    "def select(x, y, z, grid, colors, color=\"goldenrod\", linestyle=\"-\", render_all=True):\n",
    "    i = x-1\n",
    "    j = y-1\n",
    "    k = z-1\n",
    "    pts = [grid[i][j][k]]\n",
    "    colors[i][j][k] = color\n",
    "    for idx in range(N):\n",
    "        if idx != i:\n",
    "            pts.append(grid[idx][j][k])\n",
    "            colors[idx][j][k] = color\n",
    "        if idx != j:\n",
    "            pts.append(grid[i][idx][k])\n",
    "            colors[i][idx][k] = color\n",
    "        if idx != k:\n",
    "            pts.append(grid[i][j][idx])\n",
    "            colors[i][j][idx] = color\n",
    "    connect(pts, color, linestyle, render_all)\n",
    "\n",
    "def colorize(grid, colors, show_text=True, render_all=True):\n",
    "    for i in range(0,N):\n",
    "        for j in range(0,N):\n",
    "            for k in range(0,N):\n",
    "                p = grid[i][j][k]\n",
    "                color = colors[i][j][k]\n",
    "                if render_all or p[1] == 1:\n",
    "                    ax.scatter3D([p[0]], [p[1]], [p[2]], color=color, s=30)\n",
    "                    if show_text:\n",
    "                        dx = -0.28\n",
    "                        dy = -0.2\n",
    "                        if p[0] > 1:\n",
    "                            dx = 0.1\n",
    "                            dy = 0\n",
    "                        ax.text(p[0]+dx*scale, p[1]+dy*scale, p[2], \"%d-%d-%d\" % (p[0],p[2],p[1]), None, fontweight='bold', color=color)\n",
    "\n",
    "                        \n",
    "ax.scatter3D([N], [N], [N], color=\"white\", s=1)\n",
    "                        \n",
    "connect(points,render_all=False)\n",
    "select(2,1,2,grid,colors,render_all=False,color=\"darkorchid\")\n",
    "select(1,1,1,grid,colors,render_all=False)\n",
    "# select(2,1,2,grid,colors)\n",
    "# select(1,2,2,grid,colors)\n",
    "# select(2,2,1,grid,colors)\n",
    "# select(3,3,3,grid,colors,color=\"darkorchid\")\n",
    "# select(4,3,4,grid,colors,color=\"darkorchid\")\n",
    "# select(3,4,4,grid,colors,color=\"darkorchid\")\n",
    "# select(4,4,3,grid,colors,color=\"darkorchid\")\n",
    "colorize(grid,colors,False,False)\n",
    "\n",
    "        \n",
    "plt.show()"
   ]
  },
  {
   "cell_type": "code",
   "execution_count": null,
   "metadata": {
    "collapsed": true
   },
   "outputs": [],
   "source": []
  }
 ],
 "metadata": {
  "kernelspec": {
   "display_name": "Python 3",
   "language": "python",
   "name": "python3"
  },
  "language_info": {
   "codemirror_mode": {
    "name": "ipython",
    "version": 3
   },
   "file_extension": ".py",
   "mimetype": "text/x-python",
   "name": "python",
   "nbconvert_exporter": "python",
   "pygments_lexer": "ipython3",
   "version": "3.6.3"
  }
 },
 "nbformat": 4,
 "nbformat_minor": 2
}
